{
 "cells": [
  {
   "cell_type": "code",
   "execution_count": 1,
   "id": "a39abaa4",
   "metadata": {},
   "outputs": [],
   "source": [
    "from sklearn.preprocessing import KBinsDiscretizer\n",
    "import numpy as np \n",
    "import matplotlib.pyplot as plt\n",
    "from IPython.display import clear_output\n",
    "import time, math, random\n",
    "import gym"
   ]
  },
  {
   "cell_type": "markdown",
   "id": "3c2a9981",
   "metadata": {},
   "source": [
    "### CartPole Problem"
   ]
  },
  {
   "cell_type": "markdown",
   "id": "918314d8",
   "metadata": {},
   "source": [
    "Cartpole - known also as an Inverted Pendulum is a pendulum with a center of gravity above its pivot point. It’s unstable, but can be controlled by moving the pivot point under the center of mass. The goal is to keep the cartpole balanced by applying appropriate forces to a pivot point."
   ]
  },
  {
   "cell_type": "markdown",
   "id": "8ca23d44",
   "metadata": {},
   "source": [
    "##### source: https://github.com/openai/gym/blob/master/gym/envs/classic_control/cartpole.py\n",
    "\n",
    "**Observation:**\n",
    "\n",
    "    Type: Box(4)\n",
    "    Num     Observation               Min                     Max\n",
    "    0       Cart Position             -4.8                    4.8\n",
    "    1       Cart Velocity             -Inf                    Inf\n",
    "    2       Pole Angle                -0.418 rad (-24 deg)    0.418 rad (24 deg)\n",
    "    3       Pole Angular Velocity     -Inf                    Inf\n",
    "\n",
    "**Actions:**\n",
    "\n",
    "    Type: Discrete(2)\n",
    "    Num   Action\n",
    "    0     Push cart to the left\n",
    "    1     Push cart to the right\n",
    "   \n",
    "**Reward:**\n",
    "\n",
    "    Reward is 1 for every step taken, including the termination step\n",
    "\n",
    "**Starting State:**\n",
    "\n",
    "    All observations are assigned a uniform random value in [-0.05..0.05]\n",
    "\n",
    "**Episode Termination:**\n",
    "\n",
    "    Pole Angle is more than 12 degrees.\n",
    "    Cart Position is more than 2.4 (center of the cart reaches the edge of\n",
    "    the display).\n",
    "    Episode length is greater than 200.\n",
    "    Solved Requirements:\n",
    "    Considered solved when the average return is greater than or equal to\n",
    "    195.0 over 100 consecutive trials."
   ]
  },
  {
   "cell_type": "code",
   "execution_count": 2,
   "id": "bdbdfae2",
   "metadata": {},
   "outputs": [],
   "source": [
    "# Show info\n",
    "# ?env.env"
   ]
  },
  {
   "cell_type": "markdown",
   "id": "1ad34c35",
   "metadata": {},
   "source": [
    "### 2 - Q-Learning"
   ]
  },
  {
   "cell_type": "code",
   "execution_count": 3,
   "id": "26ed3c5b",
   "metadata": {},
   "outputs": [],
   "source": [
    "### https://github.com/RJBrooker/Q-learning-demo-Cartpole-V1/blob/master/cartpole.ipynb\n",
    "\n",
    "class Agent:\n",
    "\n",
    "    def __init__(self, env, learning_rate=0.01, discount_factor=0.9):\n",
    "        self.env = env\n",
    "        \n",
    "        self.learning_rate = learning_rate\n",
    "        self.discount_factor = discount_factor\n",
    "        \n",
    "        self.n_bins = ( 6 , 12 )\n",
    "        self.lower_bounds = [ self.env.observation_space.low[2], -math.radians(50) ]\n",
    "        self.upper_bounds = [ self.env.observation_space.high[2], math.radians(50) ]\n",
    "        \n",
    "        self.q_table = np.zeros(self.n_bins + (self.env.action_space.n,))\n",
    "\n",
    "    def discretizer(self, _ , __ , angle, pole_velocity ):\n",
    "        \"\"\"Convert continues state intro a discrete state\"\"\"\n",
    "        est = KBinsDiscretizer(n_bins=self.n_bins, encode='ordinal', strategy='uniform')\n",
    "        est.fit([self.lower_bounds, self.upper_bounds ])\n",
    "        return tuple(map(int,est.transform([[angle, pole_velocity]])[0]))\n",
    "    \n",
    "    def policy(self, state, epsilon):\n",
    "        if np.random.rand() > epsilon:\n",
    "            # Exploit\n",
    "            action = np.argmax(self.q_table[state])\n",
    "        else:\n",
    "            # Explore\n",
    "            action = np.random.randint(len(self.q_table[state]))\n",
    "        return action\n",
    "\n",
    "    def load_q_table(self, table_filename):\n",
    "        table = np.load(table_filename)\n",
    "        self.q_table = table\n",
    "    \n",
    "    def exploration_rate(self, n, min_rate= 0.1 ):\n",
    "        \"\"\"Decaying exploration rate\"\"\"\n",
    "        return max(min_rate, min(1, 1.0 - math.log10((n  + 1) / 25)))\n",
    "\n",
    "    #def exploration_rate(self, episode, num_episodes):\n",
    "    #    \"\"\"# Define exploration rate change over time\"\"\"\n",
    "    #    start_eps = 1.0\n",
    "    #    end_eps = 0.1\n",
    "    #    const_eps_episodes = 0.1 * num_episodes  # 10% of learning time\n",
    "    #    eps_decay_episodes = 0.6 * num_episodes  # 60% of learning time\n",
    "\n",
    "    #    if episode < const_eps_episodes:\n",
    "    #        return start_eps\n",
    "    #    elif episode < eps_decay_episodes:\n",
    "            # Linear decay\n",
    "    #        return start_eps - (episode - const_eps_episodes) / \\\n",
    "    #                           (eps_decay_episodes - const_eps_episodes) * (start_eps - end_eps)\n",
    "    #    else:\n",
    "    #        return end_eps\n",
    "\n",
    "    # train the agent for a given number of episodes\n",
    "    # the agent trains using Q-Learning\n",
    "    def train(self, training_episodes):\n",
    "        steps_per_episode = np.zeros((training_episodes))\n",
    "        run = 0\n",
    "        for i in range(0, training_episodes):            \n",
    "            state = self.discretizer(*self.env.reset())\n",
    "            done = False\n",
    "            num_steps = 0\n",
    "            run+=1\n",
    "            \n",
    "            while not done:       \n",
    "                num_steps += 1\n",
    "                \n",
    "                #epsilon = self.exploration_rate(i, training_episodes)\n",
    "                epsilon = self.exploration_rate(i)\n",
    "                \n",
    "                action = self.policy(state, epsilon)\n",
    "         \n",
    "                next_state, reward, done, _ = self.env.step(action)\n",
    "            \n",
    "                if reward < 0.:\n",
    "                    print(\"reward \", reward)\n",
    "                    \n",
    "                next_state = self.discretizer(*next_state)\n",
    "                \n",
    "                q_value = self.q_table[state][action]\n",
    "            \n",
    "                max_q = np.max(self.q_table[next_state])\n",
    "\n",
    "                new_q = q_value + self.learning_rate * (reward + self.discount_factor * max_q - q_value)\n",
    "                self.q_table[state][action] = new_q\n",
    "\n",
    "                state = next_state\n",
    "                \n",
    "                #if done:\n",
    "                #    print(\"Run: \" + str(run), \"score: \"  + str(num_steps))\n",
    "            \n",
    "            # total num of steps per episode\n",
    "            steps_per_episode[i] = num_steps\n",
    "        \n",
    "        print(\"\\nAvg num of steps per episode: \" + str(np.mean(steps_per_episode)))\n",
    "        plt.plot(steps_per_episode)\n",
    "        plt.show()  \n",
    "\n",
    "        outfile = open('q_table', 'wb')\n",
    "        np.save(outfile, self.q_table)\n",
    "        outfile.close()\n",
    "\n",
    "    # test the agent for a given number of episodes\n",
    "    # if render is active, it will print the steps and total reward\n",
    "    def test(self, testing_episodes, render=False):\n",
    "    \n",
    "        MAX_ITERS = 100\n",
    "        frames = []\n",
    "        total_penalties = 0\n",
    "        steps_per_episode = np.zeros((testing_episodes))\n",
    "        \n",
    "        for i in range(testing_episodes):\n",
    "            \n",
    "            state = self.discretizer(*self.env.reset())\n",
    "            done = False\n",
    "            total_reward = 0\n",
    "            steps = []\n",
    "            penalties, reward = 0, 0\n",
    "\n",
    "            num_iters = 0\n",
    "            \n",
    "            while not done and num_iters < MAX_ITERS:\n",
    "                action = np.argmax(self.q_table[state])\n",
    "                steps.append(action)\n",
    "                \n",
    "                state, reward, done, _ = self.env.step(action)\n",
    "                state = self.discretizer(*state)\n",
    "                total_reward += reward\n",
    "\n",
    "                num_iters += 1\n",
    "        \n",
    "                # Put each rendered frame into dict for animation\n",
    "                if render:\n",
    "                    clear_output(wait=True)\n",
    "                    self.env.render()\n",
    "                \n",
    "                # total num of steps per episode\n",
    "                steps_per_episode[i] = num_iters\n",
    "                \n",
    "        print(f\"Results after {testing_episodes} episodes:\")\n",
    "        print(f\"Average timesteps per episode: {np.mean(steps_per_episode)}\")"
   ]
  },
  {
   "cell_type": "code",
   "execution_count": 4,
   "id": "5d79bc7b",
   "metadata": {},
   "outputs": [
    {
     "name": "stdout",
     "output_type": "stream",
     "text": [
      "\n",
      "Avg num of steps per episode: 21.8581\n"
     ]
    },
    {
     "data": {
      "image/png": "[encoded data removed]",
      "text/plain": [
       "<Figure size 432x288 with 1 Axes>"
      ]
     },
     "metadata": {
      "needs_background": "light"
     },
     "output_type": "display_data"
    }
   ],
   "source": [
    "env = gym.make(\"CartPole-v1\")\n",
    "agent = Agent(env)\n",
    "training_episodes = 10000\n",
    "agent.train(training_episodes)"
   ]
  },
  {
   "cell_type": "code",
   "execution_count": 5,
   "id": "cb9ec69e",
   "metadata": {},
   "outputs": [
    {
     "name": "stdout",
     "output_type": "stream",
     "text": [
      "Results after 20 episodes:\n",
      "Average timesteps per episode: 20.1\n"
     ]
    }
   ],
   "source": [
    "testing_episodes = 20\n",
    "agent.test(testing_episodes, render=True)"
   ]
  },
  {
   "cell_type": "code",
   "execution_count": null,
   "id": "90f77fc1",
   "metadata": {},
   "outputs": [],
   "source": []
  }
 ],
 "metadata": {
  "kernelspec": {
   "display_name": "Python 3 (ipykernel)",
   "language": "python",
   "name": "python3"
  },
  "language_info": {
   "codemirror_mode": {
    "name": "ipython",
    "version": 3
   },
   "file_extension": ".py",
   "mimetype": "text/x-python",
   "name": "python",
   "nbconvert_exporter": "python",
   "pygments_lexer": "ipython3",
   "version": "3.9.8"
  }
 },
 "nbformat": 4,
 "nbformat_minor": 5
}
