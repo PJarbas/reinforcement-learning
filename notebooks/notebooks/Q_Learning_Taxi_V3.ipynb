{
 "cells": [
  {
   "cell_type": "markdown",
   "metadata": {
    "id": "7WE2yi6ihAxt"
   },
   "source": [
    "## Q-Learning OpenAi Gym\n",
    "\n",
    "Environment: Taxi-v3\n",
    "\n",
    "https://github.com/openai/gym/blob/master/gym/envs/toy_text/taxi.py"
   ]
  },
  {
   "cell_type": "markdown",
   "metadata": {
    "id": "Dd8JhuEghFRy"
   },
   "source": [
    "## Importing the environment"
   ]
  },
  {
   "cell_type": "code",
   "execution_count": 1,
   "metadata": {
    "colab": {
     "base_uri": "https://localhost:8080/"
    },
    "id": "qFnHNnE2g95b",
    "outputId": "3ff052fe-a677-4741-e18e-6c93f2a574f0"
   },
   "outputs": [
    {
     "name": "stdout",
     "output_type": "stream",
     "text": [
      "+---------+\n",
      "|R: | : :\u001b[34;1mG\u001b[0m|\n",
      "| : | : : |\n",
      "| : : : : |\n",
      "| | : | : |\n",
      "|Y| :\u001b[43m \u001b[0m|\u001b[35mB\u001b[0m: |\n",
      "+---------+\n",
      "\n"
     ]
    }
   ],
   "source": [
    "import gym\n",
    "\n",
    "env = gym.make('Taxi-v3').env\n",
    "\n",
    "env.reset()\n",
    "env.render()"
   ]
  },
  {
   "cell_type": "markdown",
   "metadata": {
    "id": "cZZR2qOLhe5Z"
   },
   "source": [
    "## Random Agent"
   ]
  },
  {
   "cell_type": "code",
   "execution_count": 2,
   "metadata": {
    "colab": {
     "base_uri": "https://localhost:8080/",
     "height": 379
    },
    "id": "R5hcUJSHhffp",
    "outputId": "486541f8-1d5a-47e2-bbe5-c05ff7d6b857"
   },
   "outputs": [
    {
     "name": "stdout",
     "output_type": "stream",
     "text": [
      "+---------+\n",
      "|\u001b[43mR\u001b[0m: | : :G|\n",
      "| : | : : |\n",
      "| : : : : |\n",
      "| | : | : |\n",
      "|\u001b[35mY\u001b[0m| : |\u001b[34;1mB\u001b[0m: |\n",
      "+---------+\n",
      "  (Pickup)\n"
     ]
    },
    {
     "ename": "KeyboardInterrupt",
     "evalue": "",
     "output_type": "error",
     "traceback": [
      "\u001b[1;31m---------------------------------------------------------------------------\u001b[0m",
      "\u001b[1;31mKeyboardInterrupt\u001b[0m                         Traceback (most recent call last)",
      "\u001b[1;32m~\\AppData\\Local\\Temp/ipykernel_13492/3937513897.py\u001b[0m in \u001b[0;36m<module>\u001b[1;34m\u001b[0m\n\u001b[0;32m     16\u001b[0m     \u001b[0mclear_output\u001b[0m\u001b[1;33m(\u001b[0m\u001b[0mwait\u001b[0m\u001b[1;33m=\u001b[0m\u001b[1;32mTrue\u001b[0m\u001b[1;33m)\u001b[0m\u001b[1;33m\u001b[0m\u001b[1;33m\u001b[0m\u001b[0m\n\u001b[0;32m     17\u001b[0m     \u001b[0menv\u001b[0m\u001b[1;33m.\u001b[0m\u001b[0mrender\u001b[0m\u001b[1;33m(\u001b[0m\u001b[1;33m)\u001b[0m\u001b[1;33m\u001b[0m\u001b[1;33m\u001b[0m\u001b[0m\n\u001b[1;32m---> 18\u001b[1;33m     \u001b[0mtime\u001b[0m\u001b[1;33m.\u001b[0m\u001b[0msleep\u001b[0m\u001b[1;33m(\u001b[0m\u001b[1;36m1\u001b[0m\u001b[1;33m)\u001b[0m\u001b[1;33m\u001b[0m\u001b[1;33m\u001b[0m\u001b[0m\n\u001b[0m\u001b[0;32m     19\u001b[0m \u001b[1;33m\u001b[0m\u001b[0m\n\u001b[0;32m     20\u001b[0m \u001b[0menv\u001b[0m\u001b[1;33m.\u001b[0m\u001b[0mclose\u001b[0m\u001b[1;33m(\u001b[0m\u001b[1;33m)\u001b[0m\u001b[1;33m\u001b[0m\u001b[1;33m\u001b[0m\u001b[0m\n",
      "\u001b[1;31mKeyboardInterrupt\u001b[0m: "
     ]
    }
   ],
   "source": [
    "import gym\n",
    "import time\n",
    "from IPython.display import clear_output\n",
    "\n",
    "# create the environment and start the episode\n",
    "env = gym.make('Taxi-v3').env\n",
    "state = env.reset()\n",
    "done = False\n",
    "\n",
    "# while episode is not finished\n",
    "while not done:\n",
    "    action = env.action_space.sample()\n",
    "    state, _, done, _ = env.step(action)\n",
    "\n",
    "    # render the image on the display\n",
    "    clear_output(wait=True)\n",
    "    env.render()\n",
    "    time.sleep(1)\n",
    "\n",
    "env.close()"
   ]
  },
  {
   "cell_type": "markdown",
   "metadata": {
    "id": "pdtBXVGFhipo"
   },
   "source": [
    "## Training the agent\n",
    "\n",
    "Using Q-Learning"
   ]
  },
  {
   "cell_type": "code",
   "execution_count": 3,
   "metadata": {
    "colab": {
     "base_uri": "https://localhost:8080/",
     "height": 318
    },
    "id": "1HzNna1Chnyg",
    "outputId": "6c237c1f-8bd1-4415-8ca9-7f60a9910d97"
   },
   "outputs": [
    {
     "name": "stderr",
     "output_type": "stream",
     "text": [
      "100%|██████████| 10000/10000 [00:05<00:00, 1889.65it/s]\n"
     ]
    },
    {
     "name": "stdout",
     "output_type": "stream",
     "text": [
      "\n",
      "Avg num of steps per episode: 20.9736\n"
     ]
    },
    {
     "data": {
      "image/png": "[encoded data removed]",
      "text/plain": [
       "<Figure size 432x288 with 1 Axes>"
      ]
     },
     "metadata": {
      "needs_background": "light"
     },
     "output_type": "display_data"
    }
   ],
   "source": [
    "# import libraries\n",
    "import gym\n",
    "import numpy as np\n",
    "from tqdm import trange\n",
    "import matplotlib.pyplot as plt\n",
    " \n",
    "# define parameters\n",
    "training_episodes = 10000\n",
    "learning_rate = 0.1\n",
    "discount_factor = 0.9\n",
    " \n",
    "# create a q-table initialized with zeros\n",
    "q_table = np.zeros([env.observation_space.n, env.action_space.n])\n",
    " \n",
    "# count the number of steps per episode\n",
    "# used to verify if the agent is learning\n",
    "steps_per_episode = np.zeros((training_episodes))\n",
    "    \n",
    "# main loop\n",
    "for i in trange(0, training_episodes):\n",
    "    \n",
    "    # initialize the episode\n",
    "    state = env.reset()\n",
    "    done = False\n",
    "    num_steps = 0\n",
    "    \n",
    "    # while episode is not finished\n",
    "    while not done:\n",
    "        \n",
    "        # increment num of steps\n",
    "        num_steps += 1\n",
    "        \n",
    "        # select a greedy action from q-table\n",
    "        action = np.argmax(q_table[state])\n",
    " \n",
    "        # perform action in the environment\n",
    "        next_state, reward, done, _ = env.step(action)\n",
    "        \n",
    "        # get current action value\n",
    "        q_value = q_table[state, action]\n",
    "        max_q = np.max(q_table[next_state])\n",
    "        \n",
    "        # update the action value using Bellman equation\n",
    "        new_q = q_value + learning_rate * (reward + discount_factor * max_q - q_value)\n",
    "        q_table[state, action] = new_q\n",
    " \n",
    "        # go to next state\n",
    "        state = next_state        \n",
    "        \n",
    "    # total num of steps per episode\n",
    "    steps_per_episode[i] = num_steps\n",
    " \n",
    "# print results\n",
    "print(\"\\nAvg num of steps per episode: \" + str(np.mean(steps_per_episode)))\n",
    "plt.plot(steps_per_episode)\n",
    "plt.show()  "
   ]
  },
  {
   "cell_type": "markdown",
   "metadata": {
    "id": "zSn1t3knhuCI"
   },
   "source": [
    "## Testing the agent"
   ]
  },
  {
   "cell_type": "code",
   "execution_count": 4,
   "metadata": {
    "colab": {
     "base_uri": "https://localhost:8080/"
    },
    "id": "9r9ROkDphuxQ",
    "outputId": "7139cbc1-7709-42fe-9b2b-05a60907436b"
   },
   "outputs": [
    {
     "name": "stdout",
     "output_type": "stream",
     "text": [
      "+---------+\n",
      "|R: | : :\u001b[35m\u001b[34;1m\u001b[43mG\u001b[0m\u001b[0m\u001b[0m|\n",
      "| : | : : |\n",
      "| : : : : |\n",
      "| | : | : |\n",
      "|Y| : |B: |\n",
      "+---------+\n",
      "  (Dropoff)\n",
      "Finished episode 5/5\n"
     ]
    }
   ],
   "source": [
    "# import libraries\n",
    "import time\n",
    "\n",
    "# used to clear colab notebook display\n",
    "from IPython.display import clear_output\n",
    "\n",
    "# num of test episodes\n",
    "test_episodes = 5\n",
    "\n",
    "# run each test episode\n",
    "for i in range(test_episodes):\n",
    "    \n",
    "    # start the episode\n",
    "    state = env.reset()    \n",
    "    done = False\n",
    "    \n",
    "    # while episode is not finished\n",
    "    while not done:\n",
    "        # select a greedy action from q-table\n",
    "        action = np.argmax(q_table[state])\n",
    "        state, _, done, _ = env.step(action)\n",
    "\n",
    "        # render the image on the display\n",
    "        clear_output(wait=True)\n",
    "        env.render()\n",
    "        time.sleep(1)\n",
    "        \n",
    "    # the episode is done\n",
    "    print(\"Finished episode \" + str(i+1) + \"/\" + str(test_episodes))\n",
    "    time.sleep(3)"
   ]
  },
  {
   "cell_type": "code",
   "execution_count": null,
   "metadata": {},
   "outputs": [],
   "source": []
  }
 ],
 "metadata": {
  "colab": {
   "collapsed_sections": [],
   "name": "Q-Learning Taxi-V3.ipynb",
   "provenance": []
  },
  "kernelspec": {
   "display_name": "Python 3 (ipykernel)",
   "language": "python",
   "name": "python3"
  },
  "language_info": {
   "codemirror_mode": {
    "name": "ipython",
    "version": 3
   },
   "file_extension": ".py",
   "mimetype": "text/x-python",
   "name": "python",
   "nbconvert_exporter": "python",
   "pygments_lexer": "ipython3",
   "version": "3.9.8"
  }
 },
 "nbformat": 4,
 "nbformat_minor": 1
}
