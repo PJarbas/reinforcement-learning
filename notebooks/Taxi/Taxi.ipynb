{
 "cells": [
  {
   "cell_type": "code",
   "execution_count": 1,
   "id": "a39abaa4",
   "metadata": {},
   "outputs": [],
   "source": [
    "from sklearn.preprocessing import KBinsDiscretizer\n",
    "import numpy as np \n",
    "import time, math, random\n",
    "from tqdm import trange\n",
    "import matplotlib.pyplot as plt\n",
    "from IPython.display import clear_output\n",
    "import gym"
   ]
  },
  {
   "cell_type": "markdown",
   "id": "3c2a9981",
   "metadata": {},
   "source": [
    "### The Taxi Problem"
   ]
  },
  {
   "cell_type": "markdown",
   "id": "918314d8",
   "metadata": {},
   "source": [
    "from \"Hierarchical Reinforcement Learning with the MAXQ Value Function Decomposition\"\n",
    "    by Tom Dietterich\n",
    "\n",
    "Description:\n",
    "\n",
    "    There are four designated locations in the grid world indicated by R(ed), G(reen), Y(ellow), and B(lue). When the episode starts, the taxi starts off at a random square and the passenger is at a random location. The taxi drives to the passenger's location, picks up the passenger, drives to the passenger's destination (another one of the four specified locations), and then drops off the passenger. Once the passenger is dropped off, the episode ends."
   ]
  },
  {
   "cell_type": "markdown",
   "id": "58d49460",
   "metadata": {},
   "source": [
    "**Source**: https://github.com/openai/gym/blob/master/gym/envs/toy_text/taxi.py"
   ]
  },
  {
   "cell_type": "markdown",
   "id": "8ca23d44",
   "metadata": {},
   "source": [
    "**Observations:**\n",
    "\n",
    "    There are 500 discrete states since there are 25 taxi positions, 5 possible locations of the passenger (including the case when the passenger is in the taxi), and 4 destination locations.\n",
    "    Note that there are 400 states that can actually be reached during an episode. The missing states correspond to situations in which the passenger is at the same location as their destination, as this typically signals the end of an episode.\n",
    "    \n",
    "    Four additional states can be observed right after a successful episodes, when both the passenger and the taxi are at the destination.\n",
    "    \n",
    "    This gives a total of 404 reachable discrete states.\n",
    "\n",
    "**Passenger locations:**\n",
    "\n",
    "    - 0: R(ed)\n",
    "    - 1: G(reen)\n",
    "    - 2: Y(ellow)\n",
    "    - 3: B(lue)\n",
    "    - 4: in taxi\n",
    "    \n",
    "**destinations:**\n",
    "\n",
    "    - 0: R(ed)\n",
    "    - 1: G(reen)\n",
    "    - 2: Y(ellow)\n",
    "    - 3: B(lue)\n",
    "    \n",
    "**Actions:**\n",
    "\n",
    "    There are 6 discrete deterministic actions:\n",
    "    - 0: move south\n",
    "    - 1: move north\n",
    "    - 2: move east\n",
    "    - 3: move west\n",
    "    - 4: pickup passenger\n",
    "    - 5: drop off passenger\n",
    "\n",
    "**Rewards:**\n",
    "\n",
    "    There is a default per-step reward of -1,\n",
    "    except for delivering the passenger, which is +20,\n",
    "    or executing \"pickup\" and \"drop-off\" actions illegally, which is -10.\n",
    "    Rendering:\n",
    "    - blue: passenger\n",
    "    - magenta: destination\n",
    "    - yellow: empty taxi\n",
    "    - green: full taxi\n",
    "    - other letters (R, G, Y and B): locations for passengers and destinations\n",
    "\n",
    "**state space is represented by:**\n",
    "\n",
    "        (taxi_row, taxi_col, passenger_location, destination)\n",
    "    "
   ]
  },
  {
   "cell_type": "code",
   "execution_count": 2,
   "id": "bdbdfae2",
   "metadata": {},
   "outputs": [],
   "source": [
    "# Show info\n",
    "#?env.env"
   ]
  },
  {
   "cell_type": "markdown",
   "id": "1ad34c35",
   "metadata": {},
   "source": [
    "### Q-Learning"
   ]
  },
  {
   "cell_type": "code",
   "execution_count": 3,
   "id": "26ed3c5b",
   "metadata": {},
   "outputs": [],
   "source": [
    "class Agent:\n",
    "\n",
    "    def __init__(self, env, learning_rate=0.1, discount_factor=0.9):\n",
    "        self.env = env\n",
    "        \n",
    "        self.learning_rate = learning_rate\n",
    "        self.discount_factor = discount_factor\n",
    "        \n",
    "        self.q_table = np.zeros([env.observation_space.n, env.action_space.n])\n",
    "    \n",
    "    def policy(self, state, epsilon):\n",
    "        if np.random.rand() > epsilon:\n",
    "            # Exploit\n",
    "            action = np.argmax(self.q_table[state])\n",
    "        else:\n",
    "            # Explore\n",
    "            action = np.random.randint(len(self.q_table[state]))\n",
    "        return action\n",
    "    \n",
    "    def exploration_rate(self, episode, num_episodes):\n",
    "        \"\"\"# Define exploration rate change over time\"\"\"\n",
    "        start_eps = 1.0\n",
    "        end_eps = 0.1\n",
    "        const_eps_episodes = 0.1 * num_episodes  # 10% of learning time\n",
    "        eps_decay_episodes = 0.6 * num_episodes  # 60% of learning time\n",
    "\n",
    "        if episode < const_eps_episodes:\n",
    "            return start_eps\n",
    "        elif episode < eps_decay_episodes:\n",
    "            # Linear decay\n",
    "            return start_eps - (episode - const_eps_episodes) / \\\n",
    "                               (eps_decay_episodes - const_eps_episodes) * (start_eps - end_eps)\n",
    "        else:\n",
    "            return end_eps\n",
    "\n",
    "    def load_q_table(self, table_filename):\n",
    "        table = np.load(table_filename)\n",
    "        self.q_table = table\n",
    "    \n",
    "    def print_frames(self, frames):\n",
    "        for i, frame in enumerate(frames):\n",
    "            clear_output(wait=True)\n",
    "            print(frame['frame'])\n",
    "            print(f\"Episode: {frame['episode']}\")\n",
    "            print(f\"Timestep: {i + 1}\")\n",
    "            print(f\"State: {frame['state']}\")\n",
    "            print(f\"Action: {frame['action']}\")\n",
    "            print(f\"Reward: {frame['reward']}\")\n",
    "            time.sleep(1)\n",
    "\n",
    "    # train the agent for a given number of episodes\n",
    "    # the agent trains using Q-Learning\n",
    "    def train(self, training_episodes):\n",
    "        # count the number of steps per episode\n",
    "        # used to verify if the agent is learning\n",
    "        steps_per_episode = np.zeros((training_episodes))\n",
    "        run = 0\n",
    "        for i in range(0, training_episodes):            \n",
    "            state = self.env.reset()\n",
    "            done = False\n",
    "            num_steps = 0\n",
    "            run+=1\n",
    "            \n",
    "            while not done:       \n",
    "                num_steps += 1\n",
    "                \n",
    "                #epsilon = self.exploration_rate(i, training_episodes)\n",
    "                #action = self.policy(state, epsilon)\n",
    "                \n",
    "                # select a greedy action from q-table\n",
    "                action = np.argmax(self.q_table[state])\n",
    "        \n",
    "                next_state, reward, done, _ = self.env.step(action)\n",
    "                \n",
    "                q_value = self.q_table[state, action]\n",
    "            \n",
    "                max_q = np.max(self.q_table[next_state])\n",
    "\n",
    "                new_q = q_value + self.learning_rate * (reward + self.discount_factor * max_q - q_value)\n",
    "                self.q_table[state, action] = new_q\n",
    "\n",
    "                state = next_state\n",
    "            \n",
    "            # total num of steps per episode\n",
    "            steps_per_episode[i] = num_steps\n",
    "        \n",
    "        print(\"\\nAvg num of steps per episode: \" + str(np.mean(steps_per_episode)))\n",
    "        plt.plot(steps_per_episode)\n",
    "        plt.show()  \n",
    "\n",
    "        outfile = open('q_table', 'wb')\n",
    "        np.save(outfile, self.q_table)\n",
    "        outfile.close()\n",
    "\n",
    "    # test the agent for a given number of episodes\n",
    "    # if render is active, it will print the steps and total reward\n",
    "    def test(self, testing_episodes, render=False):\n",
    "    \n",
    "        MAX_ITERS = 100\n",
    "        frames = []\n",
    "        total_penalties = 0\n",
    "        steps_per_episode = np.zeros((testing_episodes))\n",
    "        for i in range(testing_episodes):\n",
    "            \n",
    "            state = self.env.reset()\n",
    "            done = False\n",
    "            total_reward = 0\n",
    "            steps = []\n",
    "            penalties, reward = 0, 0\n",
    "\n",
    "            num_iters = 0\n",
    "            \n",
    "            while not done and num_iters < MAX_ITERS:\n",
    "                action = np.argmax(self.q_table[state])\n",
    "                steps.append(action)\n",
    "                \n",
    "                state, reward, done, _ = self.env.step(action)\n",
    "                total_reward += reward\n",
    "\n",
    "                num_iters += 1\n",
    "                \n",
    "                if reward == -10:\n",
    "                    penalties += 1\n",
    "        \n",
    "                # Put each rendered frame into dict for animation\n",
    "                frames.append({\n",
    "                    'frame': self.env.render(mode='ansi'),\n",
    "                    'episode': i, \n",
    "                    'state': state,\n",
    "                    'action': action,\n",
    "                    'reward': reward\n",
    "                    }\n",
    "                )\n",
    "                # total num of steps per episode\n",
    "                steps_per_episode[i] = num_iters\n",
    "                total_penalties += penalties\n",
    "        \n",
    "        if render:\n",
    "            self.print_frames(frames)\n",
    "            \n",
    "        print(f\"\\nResults after {testing_episodes} episodes:\")\n",
    "        print(f\"Average timesteps per episode: {np.mean(steps_per_episode)}\")\n",
    "        print(f\"Average penalties per episode: {total_penalties / testing_episodes}\")"
   ]
  },
  {
   "cell_type": "code",
   "execution_count": 4,
   "id": "5d79bc7b",
   "metadata": {},
   "outputs": [
    {
     "name": "stdout",
     "output_type": "stream",
     "text": [
      "\n",
      "Avg num of steps per episode: 20.9457\n"
     ]
    },
    {
     "data": {
      "image/png": "[encoded data removed]",
      "text/plain": [
       "<Figure size 432x288 with 1 Axes>"
      ]
     },
     "metadata": {
      "needs_background": "light"
     },
     "output_type": "display_data"
    }
   ],
   "source": [
    "env = gym.make('Taxi-v3').env\n",
    "agent = Agent(env)\n",
    "training_episodes = 10000\n",
    "agent.train(training_episodes)"
   ]
  },
  {
   "cell_type": "code",
   "execution_count": 6,
   "id": "cb9ec69e",
   "metadata": {},
   "outputs": [
    {
     "name": "stdout",
     "output_type": "stream",
     "text": [
      "+---------+\n",
      "|R: | : :G|\n",
      "| : | : : |\n",
      "| : : : : |\n",
      "| | : | : |\n",
      "|\u001b[35m\u001b[34;1m\u001b[43mY\u001b[0m\u001b[0m\u001b[0m| : |B: |\n",
      "+---------+\n",
      "  (Dropoff)\n",
      "\n",
      "Episode: 9\n",
      "Timestep: 126\n",
      "State: 410\n",
      "Action: 5\n",
      "Reward: 20\n",
      "Results after 10 episodes:\n",
      "Average timesteps per episode: 12.6\n",
      "Average penalties per episode: 0.0\n"
     ]
    }
   ],
   "source": [
    "testing_episodes = 10\n",
    "agent.test(testing_episodes, render=True)"
   ]
  },
  {
   "cell_type": "code",
   "execution_count": null,
   "id": "c7d29701",
   "metadata": {},
   "outputs": [],
   "source": []
  }
 ],
 "metadata": {
  "kernelspec": {
   "display_name": "Python 3 (ipykernel)",
   "language": "python",
   "name": "python3"
  },
  "language_info": {
   "codemirror_mode": {
    "name": "ipython",
    "version": 3
   },
   "file_extension": ".py",
   "mimetype": "text/x-python",
   "name": "python",
   "nbconvert_exporter": "python",
   "pygments_lexer": "ipython3",
   "version": "3.9.8"
  }
 },
 "nbformat": 4,
 "nbformat_minor": 5
}
